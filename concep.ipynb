{
 "cells": [
  {
   "cell_type": "code",
   "execution_count": 3,
   "metadata": {},
   "outputs": [],
   "source": [
    "import numpy as np\n",
    "import matplotlib.pyplot as plt\n",
    "from ipywidgets import interact"
   ]
  },
  {
   "cell_type": "code",
   "execution_count": 4,
   "metadata": {},
   "outputs": [],
   "source": [
    "### X_i material coordinates ###\n",
    "\n",
    "## X_i material coordinates of the four corners of ##\n",
    "O=np.array([0,0]);A=np.array([1,0]);B=np.array([1,1]);C=np.array([0,1])\n",
    "\n",
    "## X_i material coordinates of the four lines ##\n",
    "# horizontal inferior line (O -> A):\n",
    "X_lineOA=np.array([np.linspace(O[0],A[0],num=5,endpoint=True),np.linspace(O[1],A[1],num=5,endpoint=True)])\n",
    "# vertical right line (A -> B):\n",
    "X_lineAB=np.array([np.linspace(A[0],B[0],num=5,endpoint=True),np.linspace(A[1],B[1],num=5,endpoint=True)])\n",
    "# horizontal superior line (B -> C):\n",
    "X_lineBC=np.array([np.linspace(B[0],C[0],num=5,endpoint=True),np.linspace(B[1],C[1],num=5,endpoint=True)])\n",
    "# vertical left line  (C -> O):\n",
    "X_lineCO=np.array([np.linspace(C[0],O[0],num=5,endpoint=True),np.linspace(C[1],O[1],num=5,endpoint=True)])"
   ]
  },
  {
   "cell_type": "code",
   "execution_count": 21,
   "metadata": {},
   "outputs": [
    {
     "data": {
      "application/vnd.jupyter.widget-view+json": {
       "model_id": "59d5f3fe27db4df385b8dfd3efac267e",
       "version_major": 2,
       "version_minor": 0
      },
      "text/plain": [
       "interactive(children=(FloatSlider(value=2.0, description='t', max=5.0), Output()), _dom_classes=('widget-inter…"
      ]
     },
     "metadata": {},
     "output_type": "display_data"
    },
    {
     "data": {
      "text/plain": [
       "<function __main__.plot_xi(t)>"
      ]
     },
     "execution_count": 21,
     "metadata": {},
     "output_type": "execute_result"
    }
   ],
   "source": [
    "### X_i spatial coordinates ###\n",
    "\n",
    "x1='X1+k*t*X2';x2='X2' # eqs. (supposed to be an input)\n",
    "\n",
    "def x_eval(x:str,line:np.ndarray,t:float): #function that evaluates the eqs.\n",
    "    X1=line[0];X2=line[1]\n",
    "    return eval(x)\n",
    "\n",
    "ti=0;tf=5;t=0 # times\n",
    "k=0.02 # k parameter\n",
    "grid_val=True\n",
    "\n",
    "### limits of the plot in x1 and x2, using the max values in final time (tf):\n",
    " # TO DO: Make plot limit finding function\n",
    "t=tf\n",
    "x_lineOA=np.array([x_eval(x1,X_lineOA,t),x_eval(x2,X_lineOA,t)])\n",
    "x_lineAB=np.array([x_eval(x1,X_lineAB,t),x_eval(x2,X_lineAB,t)])\n",
    "x_lineBC=np.array([x_eval(x1,X_lineBC,t),x_eval(x2,X_lineBC,t)])\n",
    "x_lineCO=np.array([x_eval(x1,X_lineCO,t),x_eval(x2,X_lineCO,t)])\n",
    "lim_x1_plot=np.array([min(np.min(x_lineOA[0]),np.min(x_lineAB[0]),np.min(x_lineBC[0]),np.min(x_lineCO[0]))-1,max(np.max(x_lineOA[0]),np.max(x_lineAB[0]),np.max(x_lineBC[0]),np.max(x_lineCO[0]))+1])\n",
    "lim_x2_plot=np.array([min(np.min(x_lineOA[1]),np.min(x_lineAB[1]),np.min(x_lineBC[1]),np.min(x_lineCO[1]))-1,max(np.max(x_lineOA[1]),np.max(x_lineAB[1]),np.max(x_lineBC[1]),np.max(x_lineCO[1]))+1])\n",
    "\n",
    "\n",
    "### For interactive plot:\n",
    "def plot_xi(t):\n",
    "    x_lineOA=np.array([x_eval(x1,X_lineOA,t),x_eval(x2,X_lineOA,t)])\n",
    "    x_lineAB=np.array([x_eval(x1,X_lineAB,t),x_eval(x2,X_lineAB,t)])\n",
    "    x_lineBC=np.array([x_eval(x1,X_lineBC,t),x_eval(x2,X_lineBC,t)])\n",
    "    x_lineCO=np.array([x_eval(x1,X_lineCO,t),x_eval(x2,X_lineCO,t)])\n",
    "    plt.figure(figsize=(5,5))\n",
    "    plt.plot(x_lineOA[0],x_lineOA[1],color='blue');plt.plot(x_lineAB[0],x_lineAB[1],color='blue');plt.plot(x_lineBC[0],x_lineBC[1],color='blue');plt.plot(x_lineCO[0],x_lineCO[1],color='blue')\n",
    "    plt.xlim(lim_x1_plot);plt.ylim(lim_x2_plot)\n",
    "    plt.grid(grid_val);plt.show()\n",
    "\n",
    "interact(plot_xi, t=(ti,tf,0.1))"
   ]
  },
  {
   "cell_type": "code",
   "execution_count": null,
   "metadata": {},
   "outputs": [],
   "source": [
    "### WORKING on \"any\"-function input code ##"
   ]
  },
  {
   "cell_type": "code",
   "execution_count": 10,
   "metadata": {},
   "outputs": [],
   "source": []
  },
  {
   "cell_type": "code",
   "execution_count": 13,
   "metadata": {},
   "outputs": [
    {
     "data": {
      "text/plain": [
       "array([[0.  , 0.25, 0.5 , 0.75, 1.  ],\n",
       "       [0.  , 0.  , 0.  , 0.  , 0.  ]])"
      ]
     },
     "execution_count": 13,
     "metadata": {},
     "output_type": "execute_result"
    }
   ],
   "source": [
    "x_lineOA=np.array([x_eval(x1,X_lineOA),x_eval(x2,X_lineOA)])\n",
    "x_lineAB=np.array([x_eval(x1,X_lineAB),x_eval(x2,X_lineAB)])\n",
    "x_lineBC=np.array([x_eval(x1,X_lineBC),x_eval(x2,X_lineBC)])\n",
    "x_lineCO=np.array([x_eval(x1,X_lineCO),x_eval(x2,X_lineCO)])"
   ]
  }
 ],
 "metadata": {
  "kernelspec": {
   "display_name": "base",
   "language": "python",
   "name": "python3"
  },
  "language_info": {
   "codemirror_mode": {
    "name": "ipython",
    "version": 3
   },
   "file_extension": ".py",
   "mimetype": "text/x-python",
   "name": "python",
   "nbconvert_exporter": "python",
   "pygments_lexer": "ipython3",
   "version": "3.11.7"
  }
 },
 "nbformat": 4,
 "nbformat_minor": 2
}
