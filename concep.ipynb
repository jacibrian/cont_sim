{
 "cells": [
  {
   "cell_type": "code",
   "execution_count": 1,
   "metadata": {},
   "outputs": [],
   "source": [
    "import numpy as np\n",
    "import matplotlib.pyplot as plt\n",
    "from ipywidgets import interact"
   ]
  },
  {
   "cell_type": "code",
   "execution_count": 2,
   "metadata": {},
   "outputs": [],
   "source": [
    "### X_i material coordinates ###\n",
    "\n",
    "## X_i material coordinates of the four corners of ##\n",
    "O=np.array([0,0]);A=np.array([1,0]);B=np.array([1,1]);C=np.array([0,1])\n",
    "\n",
    "## X_i material coordinates of the four lines ##\n",
    "# horizontal inferior line (O -> A):\n",
    "X_lineOA=np.array([np.linspace(O[0],A[0],num=5,endpoint=True),np.linspace(O[1],A[1],num=5,endpoint=True)])\n",
    "# vertical right line (A -> B):\n",
    "X_lineAB=np.array([np.linspace(A[0],B[0],num=5,endpoint=True),np.linspace(A[1],B[1],num=5,endpoint=True)])\n",
    "# horizontal superior line (B -> C):\n",
    "X_lineBC=np.array([np.linspace(B[0],C[0],num=5,endpoint=True),np.linspace(B[1],C[1],num=5,endpoint=True)])\n",
    "# vertical left line  (C -> O):\n",
    "X_lineCO=np.array([np.linspace(C[0],O[0],num=5,endpoint=True),np.linspace(C[1],O[1],num=5,endpoint=True)])"
   ]
  },
  {
   "cell_type": "code",
   "execution_count": 3,
   "metadata": {},
   "outputs": [
    {
     "data": {
      "application/vnd.jupyter.widget-view+json": {
       "model_id": "6db4667841e142e791adcf0d46b0cc64",
       "version_major": 2,
       "version_minor": 0
      },
      "text/plain": [
       "interactive(children=(FloatSlider(value=2.0, description='t', max=5.0), Output()), _dom_classes=('widget-inter…"
      ]
     },
     "metadata": {},
     "output_type": "display_data"
    },
    {
     "data": {
      "text/plain": [
       "<function __main__.plot_xi(t)>"
      ]
     },
     "execution_count": 3,
     "metadata": {},
     "output_type": "execute_result"
    }
   ],
   "source": [
    "### X_i spatial coordinates ###\n",
    "\n",
    "ti=0;tf=5;t=2 # times\n",
    "k=0.1 # k parameter\n",
    "grid_val=True\n",
    "\n",
    "### limits of the plot in x1 and x2, using the max values in final time (tf):\n",
    "t=tf\n",
    "x_lineOA=np.array([X_lineOA[0]+k*t*X_lineOA[1],X_lineOA[1]])\n",
    "x_lineAB=np.array([X_lineAB[0]+k*t*X_lineAB[1],X_lineAB[1]])\n",
    "x_lineBC=np.array([X_lineBC[0]+k*t*X_lineBC[1],X_lineBC[1]])\n",
    "x_lineCO=np.array([X_lineCO[0]+k*t*X_lineCO[1],X_lineCO[1]])\n",
    "lim_x1_plot=np.array([min(np.min(x_lineOA[0]),np.min(x_lineAB[0]),np.min(x_lineBC[0]),np.min(x_lineCO[0]))-1,max(np.max(x_lineOA[0]),np.max(x_lineAB[0]),np.max(x_lineBC[0]),np.max(x_lineCO[0]))+1])\n",
    "lim_x2_plot=np.array([min(np.min(x_lineOA[1]),np.min(x_lineAB[1]),np.min(x_lineBC[1]),np.min(x_lineCO[1]))-1,max(np.max(x_lineOA[1]),np.max(x_lineAB[1]),np.max(x_lineBC[1]),np.max(x_lineCO[1]))+1])\n",
    "\n",
    "\n",
    "### For interactive plot:\n",
    "def plot_xi(t):\n",
    "    x_lineOA=np.array([X_lineOA[0]+k*t*X_lineOA[1],X_lineOA[1]])\n",
    "    x_lineAB=np.array([X_lineAB[0]+k*t*X_lineAB[1],X_lineAB[1]])\n",
    "    x_lineBC=np.array([X_lineBC[0]+k*t*X_lineBC[1],X_lineBC[1]])\n",
    "    x_lineCO=np.array([X_lineCO[0]+k*t*X_lineCO[1],X_lineCO[1]])\n",
    "    plt.figure(figsize=(5,5))\n",
    "    plt.plot(x_lineOA[0],x_lineOA[1],color='blue');plt.plot(x_lineAB[0],x_lineAB[1],color='blue');plt.plot(x_lineBC[0],x_lineBC[1],color='blue');plt.plot(x_lineCO[0],x_lineCO[1],color='blue')\n",
    "    plt.xlim(lim_x1_plot);plt.ylim(lim_x2_plot)\n",
    "    plt.grid(grid_val);plt.show()\n",
    "\n",
    "interact(plot_xi, t=(ti,tf,0.1))"
   ]
  },
  {
   "cell_type": "code",
   "execution_count": null,
   "metadata": {},
   "outputs": [],
   "source": [
    "### WORKING on \"any\"-function input code ###"
   ]
  },
  {
   "cell_type": "code",
   "execution_count": 36,
   "metadata": {},
   "outputs": [
    {
     "data": {
      "text/plain": [
       "1.0"
      ]
     },
     "execution_count": 36,
     "metadata": {},
     "output_type": "execute_result"
    }
   ],
   "source": [
    "x1='u**(u*v+u/u-u-v)'\n",
    "U=np.array([1.0,2.0,3]);u=U[0];v=U[1]\n",
    "x1_eval=eval(x1)\n",
    "x1_eval"
   ]
  },
  {
   "cell_type": "code",
   "execution_count": 26,
   "metadata": {},
   "outputs": [
    {
     "name": "stdout",
     "output_type": "stream",
     "text": [
      "Help on built-in function eval in module builtins:\n",
      "\n",
      "eval(source, globals=None, locals=None, /)\n",
      "    Evaluate the given source in the context of globals and locals.\n",
      "    \n",
      "    The source may be a string representing a Python expression\n",
      "    or a code object as returned by compile().\n",
      "    The globals must be a dictionary and locals can be any mapping,\n",
      "    defaulting to the current globals and locals.\n",
      "    If only globals is given, locals defaults to it.\n",
      "\n"
     ]
    }
   ],
   "source": [
    "help(eval)\n",
    "\n"
   ]
  },
  {
   "cell_type": "code",
   "execution_count": 19,
   "metadata": {},
   "outputs": [
    {
     "data": {
      "text/plain": [
       "7"
      ]
     },
     "execution_count": 19,
     "metadata": {},
     "output_type": "execute_result"
    }
   ],
   "source": [
    "def sum(u,v):\n",
    "    return u+v"
   ]
  },
  {
   "cell_type": "code",
   "execution_count": 18,
   "metadata": {},
   "outputs": [
    {
     "data": {
      "text/plain": [
       "7"
      ]
     },
     "execution_count": 18,
     "metadata": {},
     "output_type": "execute_result"
    }
   ],
   "source": [
    "def x1_exp(X1,X2,X3):\n",
    "    "
   ]
  },
  {
   "cell_type": "code",
   "execution_count": null,
   "metadata": {},
   "outputs": [],
   "source": []
  }
 ],
 "metadata": {
  "kernelspec": {
   "display_name": "base",
   "language": "python",
   "name": "python3"
  },
  "language_info": {
   "codemirror_mode": {
    "name": "ipython",
    "version": 3
   },
   "file_extension": ".py",
   "mimetype": "text/x-python",
   "name": "python",
   "nbconvert_exporter": "python",
   "pygments_lexer": "ipython3",
   "version": "3.11.7"
  }
 },
 "nbformat": 4,
 "nbformat_minor": 2
}
