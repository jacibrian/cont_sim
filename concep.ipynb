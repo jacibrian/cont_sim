{
 "cells": [
  {
   "cell_type": "code",
   "execution_count": 2,
   "metadata": {},
   "outputs": [],
   "source": [
    "import numpy as np\n",
    "import matplotlib.pyplot as plt\n",
    "from ipywidgets import interact"
   ]
  },
  {
   "cell_type": "code",
   "execution_count": null,
   "metadata": {},
   "outputs": [],
   "source": [
    "########## INPUT ##########\n",
    "\n",
    "N=10 # número de líneas\n",
    "X_O=[0,0] # posición esquina O \n",
    "X_A=[1,0] # posición esquina A\n",
    "X_B=[1,1] # posición esquina B\n",
    "X_C=[0,1] # posición esquina C\n",
    "\n",
    "\n",
    "\n",
    "###########################"
   ]
  },
  {
   "cell_type": "code",
   "execution_count": 1,
   "metadata": {},
   "outputs": [
    {
     "ename": "SyntaxError",
     "evalue": "invalid syntax (<string>, line 0)",
     "output_type": "error",
     "traceback": [
      "Traceback \u001b[1;36m(most recent call last)\u001b[0m:\n",
      "\u001b[0m  File \u001b[0;32mc:\\Users\\admin\\anaconda3\\Lib\\site-packages\\IPython\\core\\interactiveshell.py:3553\u001b[0m in \u001b[0;35mrun_code\u001b[0m\n    exec(code_obj, self.user_global_ns, self.user_ns)\u001b[0m\n",
      "\u001b[0m  Cell \u001b[0;32mIn[1], line 40\u001b[0m\n    x_lineOA=np.array([x_eval(x1,X_lineOA,t),x_eval(x2,X_lineOA,t)])\u001b[0m\n",
      "\u001b[1;36m  Cell \u001b[1;32mIn[1], line 31\u001b[1;36m in \u001b[1;35mx_eval\u001b[1;36m\n\u001b[1;33m    return eval(x)\u001b[1;36m\n",
      "\u001b[1;36m  File \u001b[1;32m<string>\u001b[1;36m\u001b[0m\n\u001b[1;33m    \u001b[0m\n\u001b[1;37m    ^\u001b[0m\n\u001b[1;31mSyntaxError\u001b[0m\u001b[1;31m:\u001b[0m invalid syntax\n"
     ]
    }
   ],
   "source": [
    "### X_i material coordinates ###\n",
    "N=10\n",
    "## X_i material coordinates of the four corners of ##\n",
    "O=np.array(X_O);A=np.array(X_A);B=np.array(X_C);C=np.array(X_O)\n",
    "\n",
    "## X_i material coordinates of the four lines ##\n",
    "# horizontal inferior line (O -> A):\n",
    "X_lineOA=np.array([np.linspace(O[0],A[0],num=N,endpoint=True),np.linspace(O[1],A[1],num=N,endpoint=True)])\n",
    "# vertical right line (A -> B):\n",
    "X_lineAB=np.array([np.linspace(A[0],B[0],num=N,endpoint=True),np.linspace(A[1],B[1],num=N,endpoint=True)])\n",
    "# horizontal superior line (B -> C):\n",
    "X_lineBC=np.array([np.linspace(B[0],C[0],num=N,endpoint=True),np.linspace(B[1],C[1],num=N,endpoint=True)])\n",
    "# vertical left line  (C -> O):\n",
    "X_lineCO=np.array([np.linspace(C[0],O[0],num=N,endpoint=True),np.linspace(C[1],O[1],num=N,endpoint=True)])\n",
    "\n",
    "\n",
    "\n",
    "### X_i spatial coordinates ###\n",
    "\n",
    "x1=input(\"Write the spatial movement equation for x1: \")\n",
    "x2=input(\"Write the spatial movement equations for x2: \")\n",
    "\n",
    "def x_eval(x:str,line:np.ndarray,t:float): # function that evaluates the eqs.\n",
    "    X1=line[0];X2=line[1]\n",
    "    return eval(x)\n",
    "\n",
    "ti=0;tf=5;t=0 # times\n",
    "k=0.03 # k parameter\n",
    "grid_val=True\n",
    "\n",
    "### limits of the plot in x1 and x2, using the max values in final time (tf):\n",
    " # TO DO: Make plot limit finding function\n",
    "t=tf\n",
    "x_lineOA=np.array([x_eval(x1,X_lineOA,t),x_eval(x2,X_lineOA,t)])\n",
    "x_lineAB=np.array([x_eval(x1,X_lineAB,t),x_eval(x2,X_lineAB,t)])\n",
    "x_lineBC=np.array([x_eval(x1,X_lineBC,t),x_eval(x2,X_lineBC,t)])\n",
    "x_lineCO=np.array([x_eval(x1,X_lineCO,t),x_eval(x2,X_lineCO,t)])\n",
    "lim_x1_plot=np.array([min(np.min(x_lineOA[0]),np.min(x_lineAB[0]),np.min(x_lineBC[0]),np.min(x_lineCO[0]))-1,max(np.max(x_lineOA[0]),np.max(x_lineAB[0]),np.max(x_lineBC[0]),np.max(x_lineCO[0]))+1])\n",
    "lim_x2_plot=np.array([min(np.min(x_lineOA[1]),np.min(x_lineAB[1]),np.min(x_lineBC[1]),np.min(x_lineCO[1]))-1,max(np.max(x_lineOA[1]),np.max(x_lineAB[1]),np.max(x_lineBC[1]),np.max(x_lineCO[1]))+1])\n",
    "\n",
    "\n",
    "### For interactive plot:\n",
    "def plot_xi(t):\n",
    "    x_lineOA=np.array([x_eval(x1,X_lineOA,t),x_eval(x2,X_lineOA,t)])\n",
    "    x_lineAB=np.array([x_eval(x1,X_lineAB,t),x_eval(x2,X_lineAB,t)])\n",
    "    x_lineBC=np.array([x_eval(x1,X_lineBC,t),x_eval(x2,X_lineBC,t)])\n",
    "    x_lineCO=np.array([x_eval(x1,X_lineCO,t),x_eval(x2,X_lineCO,t)])\n",
    "    plt.figure(figsize=(5,5))\n",
    "    plt.plot(x_lineOA[0],x_lineOA[1],color='blue');plt.plot(x_lineAB[0],x_lineAB[1],color='blue');plt.plot(x_lineBC[0],x_lineBC[1],color='blue');plt.plot(x_lineCO[0],x_lineCO[1],color='blue')\n",
    "    plt.xlim(lim_x1_plot);plt.ylim(lim_x2_plot)\n",
    "    plt.grid(grid_val);plt.show()\n",
    "\n",
    "interact(plot_xi, t=(ti,tf,0.2))"
   ]
  },
  {
   "cell_type": "code",
   "execution_count": 51,
   "metadata": {},
   "outputs": [],
   "source": [
    "points = [O, A, B, C, O] # closed figure (needed for 'for block')\n",
    "\n",
    "lines = []\n",
    "for i in range(len(points) - 1):\n",
    "    X_line = np.array([\n",
    "        np.linspace(points[i][0], points[i+1][0], num=N, endpoint=True),\n",
    "        np.linspace(points[i][1], points[i+1][1], num=N, endpoint=True)\n",
    "    ])\n",
    "    lines.append(X_line)"
   ]
  },
  {
   "cell_type": "code",
   "execution_count": 56,
   "metadata": {},
   "outputs": [
    {
     "data": {
      "text/plain": [
       "numpy.ndarray"
      ]
     },
     "execution_count": 56,
     "metadata": {},
     "output_type": "execute_result"
    }
   ],
   "source": [
    "type(lines[1])"
   ]
  },
  {
   "cell_type": "code",
   "execution_count": 13,
   "metadata": {},
   "outputs": [
    {
     "data": {
      "text/plain": [
       "array([[0.  , 0.25, 0.5 , 0.75, 1.  ],\n",
       "       [0.  , 0.  , 0.  , 0.  , 0.  ]])"
      ]
     },
     "execution_count": 13,
     "metadata": {},
     "output_type": "execute_result"
    }
   ],
   "source": [
    "import numpy as np\n",
    "import matplotlib.pyplot as plt\n",
    "from ipywidgets import interact\n",
    "\n",
    "\n",
    "\n",
    "### X_i material coordinates ###\n",
    "\n",
    "N=10 # number of points (greater the better for precise visualizing)\n",
    "\n",
    "## X_i material coordinates of the corners of the figure ##\n",
    "# this next inputs will be \"well-made\" in the gui:\n",
    "O_X1=float(input(\"O: \"));O_X2=float(input(\"O: \"))\n",
    "A_X1=float(input(\"A: \"));A_X2=float(input(\"A: \"))\n",
    "B_X1=float(input(\"B: \"));B_X2=float(input(\"B: \"))\n",
    "C_X1=float(input(\"C: \"));C_X2=float(input(\"C: \"))\n",
    "\n",
    "# corners of only the square\n",
    "#O=np.array([O_X1,O_X2]);A=np.array([A_X1,A_X2]);B=np.array([B_X1,B_X2]);C=np.array([C_X1,C_X2]) \n",
    "\n",
    "# for cube: x3 will have to be equal to X3, that means it'll only simulate correctly for x3=X3\n",
    "# X3 will be asked as \"cube's height (X3 value)\":\n",
    "X3=1 # cube's height\n",
    "\n",
    "points = [O, A, B, C, O] # closed figure (needed for 'for block')\n",
    "\n",
    "lines = []\n",
    "for i in range(len(points) - 1):\n",
    "    X_line = np.array([\n",
    "        np.linspace(points[i][0], points[i+1][0], num=N, endpoint=True),\n",
    "        np.linspace(points[i][1], points[i+1][1], num=N, endpoint=True)\n",
    "    ])\n",
    "    lines.append(X_line)\n",
    "\n",
    "## X_i material coordinates of the four lines ##\n",
    "# horizontal inferior line (O -> A): lines[0]\n",
    "# vertical right line (A -> B):  lines[1]\n",
    "# horizontal superior line (B -> C):  lines[2]\n",
    "# vertical left line  (C -> O):  lines[3]\n",
    "\n",
    "\n",
    "\n",
    "### X_i spatial coordinates ###\n",
    "\n",
    "x1=input(\"Write the spatial movement equation for x1: \")\n",
    "x2=input(\"Write the spatial movement equations for x2: \")\n",
    "\n",
    "def x_eval(x:str,line:np.ndarray,t:float): # function that evaluates the eqs.\n",
    "    X1=line[0];X2=line[1]\n",
    "    return eval(x)\n",
    "\n",
    "ti=0;tf=5;t=0 # times\n",
    "k=0.03 # k parameter\n",
    "grid_val=True\n",
    "\n",
    "### limits of the plot in x1 and x2, using the max values in final time (tf):\n",
    " # TO DO: Make plot limit finding function\n",
    "t=tf\n",
    "x_lineOA=np.array([x_eval(x1,X_lineOA,t),x_eval(x2,X_lineOA,t)])\n",
    "x_lineAB=np.array([x_eval(x1,X_lineAB,t),x_eval(x2,X_lineAB,t)])\n",
    "x_lineBC=np.array([x_eval(x1,X_lineBC,t),x_eval(x2,X_lineBC,t)])\n",
    "x_lineCO=np.array([x_eval(x1,X_lineCO,t),x_eval(x2,X_lineCO,t)])\n",
    "lim_x1_plot=np.array([min(np.min(x_lineOA[0]),np.min(x_lineAB[0]),np.min(x_lineBC[0]),np.min(x_lineCO[0]))-1,max(np.max(x_lineOA[0]),np.max(x_lineAB[0]),np.max(x_lineBC[0]),np.max(x_lineCO[0]))+1])\n",
    "lim_x2_plot=np.array([min(np.min(x_lineOA[1]),np.min(x_lineAB[1]),np.min(x_lineBC[1]),np.min(x_lineCO[1]))-1,max(np.max(x_lineOA[1]),np.max(x_lineAB[1]),np.max(x_lineBC[1]),np.max(x_lineCO[1]))+1])\n",
    "\n",
    "\n",
    "### For interactive plot:\n",
    "def plot_xi(t):\n",
    "    x_lineOA=np.array([x_eval(x1,X_lineOA,t),x_eval(x2,X_lineOA,t)])\n",
    "    x_lineAB=np.array([x_eval(x1,X_lineAB,t),x_eval(x2,X_lineAB,t)])\n",
    "    x_lineBC=np.array([x_eval(x1,X_lineBC,t),x_eval(x2,X_lineBC,t)])\n",
    "    x_lineCO=np.array([x_eval(x1,X_lineCO,t),x_eval(x2,X_lineCO,t)])\n",
    "    plt.figure(figsize=(5,5))\n",
    "    plt.plot(x_lineOA[0],x_lineOA[1],color='blue');plt.plot(x_lineAB[0],x_lineAB[1],color='blue');plt.plot(x_lineBC[0],x_lineBC[1],color='blue');plt.plot(x_lineCO[0],x_lineCO[1],color='blue')\n",
    "    plt.xlim(lim_x1_plot);plt.ylim(lim_x2_plot)\n",
    "    plt.grid(grid_val);plt.show()\n",
    "\n",
    "interact(plot_xi, t=(ti,tf,0.2))"
   ]
  }
 ],
 "metadata": {
  "kernelspec": {
   "display_name": "base",
   "language": "python",
   "name": "python3"
  },
  "language_info": {
   "codemirror_mode": {
    "name": "ipython",
    "version": 3
   },
   "file_extension": ".py",
   "mimetype": "text/x-python",
   "name": "python",
   "nbconvert_exporter": "python",
   "pygments_lexer": "ipython3",
   "version": "3.11.7"
  }
 },
 "nbformat": 4,
 "nbformat_minor": 2
}
