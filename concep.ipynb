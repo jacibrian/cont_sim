{
 "cells": [
  {
   "cell_type": "code",
   "execution_count": 2,
   "metadata": {},
   "outputs": [],
   "source": [
    "import numpy as np\n",
    "import matplotlib.pyplot as plt\n",
    "from ipywidgets import interact"
   ]
  },
  {
   "cell_type": "code",
   "execution_count": null,
   "metadata": {},
   "outputs": [],
   "source": [
    "### Algunos movimientos ###\n",
    "\n",
    "# x1 = \"X1 + k * t * X2\"\n",
    "# x2 = \"X2\"\n",
    "\n",
    "# x1 = \"X1\"\n",
    "# x2 = \"b * X1**2 * t**2 + X2\"\n",
    "\n",
    "# x1 = \"b * X2**2 * t**2 + X1\"\n",
    "# x2 = \"k * X2 * t + X2\"\n",
    "\n",
    "# x1 = \"X1 - 2 * b * X2**2 * t**2 \"\n",
    "# x2 = \"X2 - k * t\"\n",
    "\n",
    "# x1 = \"X1 + k * (X1 + X2) * t\"\n",
    "# x2 = \"X2 + k * (X1 + X2) * t\"\n"
   ]
  },
  {
   "cell_type": "code",
   "execution_count": 63,
   "metadata": {},
   "outputs": [
    {
     "data": {
      "application/vnd.jupyter.widget-view+json": {
       "model_id": "bc6043cbe233496bbdd472d973004841",
       "version_major": 2,
       "version_minor": 0
      },
      "text/plain": [
       "interactive(children=(FloatSlider(value=1.0, description='t', max=3.0, step=0.2), Output()), _dom_classes=('wi…"
      ]
     },
     "metadata": {},
     "output_type": "display_data"
    },
    {
     "data": {
      "text/plain": [
       "<function __main__.plot_xi(t)>"
      ]
     },
     "execution_count": 63,
     "metadata": {},
     "output_type": "execute_result"
    }
   ],
   "source": [
    "#################### INPUT ####################\n",
    "\n",
    "N=10 # número de líneas \n",
    "\n",
    "X_O=[0,0] # coordenadas materiales [X1,X2] de esquina O \n",
    "X_A=[1,0] # coordenadas materiales [X1,X2] de esquina A\n",
    "X_B=[1,1] # coordenadas materiales [X1,X2] de esquina B\n",
    "X_C=[0,1] # coordenadas materiales [X1,X2] de esquina C\n",
    "\n",
    "x1=\"b * X2**2 * t**2 + X1\" # ecuación de movimiento para coordenadas espaciales de x1\n",
    "x2=\"k * X2 * t + X2\" # ecuación de movimiento para coordenadas espaciales de x2\n",
    "\n",
    "ti=0 # tiempo inicial\n",
    "tf=3 # tiempo final\n",
    "\n",
    "k=0.7 # parámetro k\n",
    "b=0.2 # parámetro beta\n",
    "\n",
    "grid_val=True # ¿plot con grid? 'True' o 'False'\n",
    "\n",
    "###############################################\n",
    "\n",
    "\n",
    "### X_i: Coordenadas Materiales ###\n",
    "\n",
    "## Creando las coordenadas materiales de las esquinas de la figura ##\n",
    "O=np.array(X_O);A=np.array(X_A);B=np.array(X_B);C=np.array(X_C)\n",
    "\n",
    "## Creando las líneas de las coordenadas materiales ##\n",
    "\n",
    "# línea horizontal inferior (O -> A):\n",
    "X_lineOA=np.array([np.linspace(O[0],A[0],num=N,endpoint=True),np.linspace(O[1],A[1],num=N,endpoint=True)])\n",
    "# línea vertical derecha (A -> B):\n",
    "X_lineAB=np.array([np.linspace(A[0],B[0],num=N,endpoint=True),np.linspace(A[1],B[1],num=N,endpoint=True)])\n",
    "# línea horizontal superior (B -> C):\n",
    "X_lineBC=np.array([np.linspace(B[0],C[0],num=N,endpoint=True),np.linspace(B[1],C[1],num=N,endpoint=True)])\n",
    "# línea vertical izquierda (C -> O):\n",
    "X_lineCO=np.array([np.linspace(C[0],O[0],num=N,endpoint=True),np.linspace(C[1],O[1],num=N,endpoint=True)])\n",
    "\n",
    "\n",
    "### x_i: Coordenadas Espaciales ###\n",
    "\n",
    "def x_eval(x:str,line:np.ndarray,t:float): # función que evalúa las ecuaciones\n",
    "    X1=line[0];X2=line[1]\n",
    "    return eval(x)\n",
    "\n",
    "\n",
    "### Límites del plot en x1 y x2, utilizando sus valores máximos en t=ti y t=tf:\n",
    "t=ti\n",
    "x_lineOA_ti=np.array([x_eval(x1,X_lineOA,t),x_eval(x2,X_lineOA,t)]);x_lineAB_ti=np.array([x_eval(x1,X_lineAB,t),x_eval(x2,X_lineAB,t)])\n",
    "x_lineBC_ti=np.array([x_eval(x1,X_lineBC,t),x_eval(x2,X_lineBC,t)]);x_lineCO_ti=np.array([x_eval(x1,X_lineCO,t),x_eval(x2,X_lineCO,t)])\n",
    "lim_x1_plot_ti=np.array([min(np.min(x_lineOA_ti[0]),np.min(x_lineAB_ti[0]),np.min(x_lineBC_ti[0]),np.min(x_lineCO_ti[0]))-0.5,max(np.max(x_lineOA_ti[0]),np.max(x_lineAB_ti[0]),np.max(x_lineBC_ti[0]),np.max(x_lineCO_ti[0]))+0.5])\n",
    "lim_x2_plot_ti=np.array([min(np.min(x_lineOA_ti[1]),np.min(x_lineAB_ti[1]),np.min(x_lineBC_ti[1]),np.min(x_lineCO_ti[1]))-0.5,max(np.max(x_lineOA_ti[1]),np.max(x_lineAB_ti[1]),np.max(x_lineBC_ti[1]),np.max(x_lineCO_ti[1]))+0.5])\n",
    "t=tf\n",
    "x_lineOA_tf=np.array([x_eval(x1,X_lineOA,t),x_eval(x2,X_lineOA,t)]);x_lineAB_tf=np.array([x_eval(x1,X_lineAB,t),x_eval(x2,X_lineAB,t)])\n",
    "x_lineBC_tf=np.array([x_eval(x1,X_lineBC,t),x_eval(x2,X_lineBC,t)]);x_lineCO_tf=np.array([x_eval(x1,X_lineCO,t),x_eval(x2,X_lineCO,t)])\n",
    "lim_x1_plot_tf=np.array([min(np.min(x_lineOA_tf[0]),np.min(x_lineAB_tf[0]),np.min(x_lineBC_tf[0]),np.min(x_lineCO_tf[0]))-0.5,max(np.max(x_lineOA_tf[0]),np.max(x_lineAB_tf[0]),np.max(x_lineBC_tf[0]),np.max(x_lineCO_tf[0]))+0.5])\n",
    "lim_x2_plot_tf=np.array([min(np.min(x_lineOA_tf[1]),np.min(x_lineAB_tf[1]),np.min(x_lineBC_tf[1]),np.min(x_lineCO_tf[1]))-0.5,max(np.max(x_lineOA_tf[1]),np.max(x_lineAB_tf[1]),np.max(x_lineBC_tf[1]),np.max(x_lineCO_tf[1]))+0.5])\n",
    "lim_x1_plot=np.array([min(lim_x1_plot_ti[0],lim_x1_plot_tf[0]),max(lim_x1_plot_ti[1],lim_x1_plot_tf[1])])\n",
    "lim_x2_plot=np.array([min(lim_x2_plot_ti[0],lim_x2_plot_tf[0]),max(lim_x2_plot_ti[1],lim_x2_plot_tf[1])])\n",
    "\n",
    "\n",
    "### Para plot interactivo:\n",
    "def plot_xi(t):\n",
    "    x_lineOA_tf=np.array([x_eval(x1,X_lineOA,t),x_eval(x2,X_lineOA,t)])\n",
    "    x_lineAB_tf=np.array([x_eval(x1,X_lineAB,t),x_eval(x2,X_lineAB,t)])\n",
    "    x_lineBC_tf=np.array([x_eval(x1,X_lineBC,t),x_eval(x2,X_lineBC,t)])\n",
    "    x_lineCO_tf=np.array([x_eval(x1,X_lineCO,t),x_eval(x2,X_lineCO,t)])\n",
    "    plt.figure(figsize=(5,5))\n",
    "    plt.plot(x_lineOA_tf[0],x_lineOA_tf[1],color='blue');plt.plot(x_lineAB_tf[0],x_lineAB_tf[1],color='blue');plt.plot(x_lineBC_tf[0],x_lineBC_tf[1],color='blue');plt.plot(x_lineCO_tf[0],x_lineCO_tf[1],color='blue')\n",
    "    plt.xlim(lim_x1_plot);plt.ylim(lim_x2_plot)\n",
    "    tit=\"Coor. espaciales con \"+r\"$x_1$=\"+x1+\"  y  \"+r\"$x_2$=\"+x2;plt.title(tit)\n",
    "    plt.xlabel(r\"$x_1$\");plt.ylabel(r\"$x_2$\")\n",
    "    plt.grid(grid_val);plt.show()\n",
    "\n",
    "interact(plot_xi, t=(ti,tf,0.2))"
   ]
  },
  {
   "cell_type": "code",
   "execution_count": null,
   "metadata": {},
   "outputs": [],
   "source": []
  }
 ],
 "metadata": {
  "kernelspec": {
   "display_name": "base",
   "language": "python",
   "name": "python3"
  },
  "language_info": {
   "codemirror_mode": {
    "name": "ipython",
    "version": 3
   },
   "file_extension": ".py",
   "mimetype": "text/x-python",
   "name": "python",
   "nbconvert_exporter": "python",
   "pygments_lexer": "ipython3",
   "version": "3.11.7"
  }
 },
 "nbformat": 4,
 "nbformat_minor": 2
}
